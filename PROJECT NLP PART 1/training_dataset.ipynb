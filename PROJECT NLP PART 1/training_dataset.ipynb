{
 "cells": [
  {
   "cell_type": "code",
   "execution_count": 4,
   "metadata": {},
   "outputs": [],
   "source": [
    "import torch\n",
    "import torch.nn as nn\n",
    "import torch.optim as optim\n",
    "from torch.utils.data import DataLoader\n",
    "import json\n"
   ]
  },
  {
   "cell_type": "code",
   "execution_count": 6,
   "metadata": {},
   "outputs": [],
   "source": [
    "with open('./archive/En-Or_word_pairs.json') as f:\n",
    "  dictionary = json.load(f)\n",
    "dataset = []\n",
    "for word, meaning in dictionary.items():\n",
    "  dataset.append((word, meaning))"
   ]
  },
  {
   "cell_type": "code",
   "execution_count": 7,
   "metadata": {},
   "outputs": [],
   "source": [
    "train_dataloader = DataLoader(\n",
    "    dataset=dataset,\n",
    "    batch_size=16,\n",
    "    shuffle=True,\n",
    ")"
   ]
  },
  {
   "cell_type": "code",
   "execution_count": 13,
   "metadata": {},
   "outputs": [],
   "source": [
    "class OdiaDictionaryModel(nn.Module):\n",
    "  def __init__(self):\n",
    "    super(OdiaDictionaryModel, self).__init__()\n",
    "    self.embedding = nn.Embedding(len(dictionary), 128)\n",
    "    self.linear = nn.Linear(128, len(dictionary))\n",
    "\n",
    "  def forward(self, x):\n",
    "    x = self.embedding(x)\n",
    "    x = self.linear(x)\n",
    "    return x"
   ]
  },
  {
   "cell_type": "code",
   "execution_count": 62,
   "metadata": {},
   "outputs": [],
   "source": [
    "model = OdiaDictionaryModel()\n",
    "loss_function = nn.CrossEntropyLoss()\n",
    "optimizer = optim.Adam(model.parameters())"
   ]
  },
  {
   "cell_type": "code",
   "execution_count": 63,
   "metadata": {},
   "outputs": [
    {
     "data": {
      "text/plain": [
       "OdiaDictionaryModel(\n",
       "  (embedding): Embedding(215339, 128)\n",
       "  (linear): Linear(in_features=128, out_features=215339, bias=True)\n",
       ")"
      ]
     },
     "execution_count": 63,
     "metadata": {},
     "output_type": "execute_result"
    }
   ],
   "source": [
    "device = torch.device(\"cuda\" if torch.cuda.is_available() else \"cpu\")\n",
    "model.to(device)"
   ]
  },
  {
   "cell_type": "code",
   "execution_count": 64,
   "metadata": {},
   "outputs": [],
   "source": [
    "def train_model(model, train_dataloader, loss_function, optimizer, num_epochs):\n",
    "    for epoch in range(num_epochs):\n",
    "        for batch in train_dataloader:\n",
    "            x, y = batch\n",
    "            x = x[0].to(device)\n",
    "            y = y[0].to(device)  # Move data to the same device as the model\n",
    "            output = model(x)  # Pass input through the model\n",
    "            loss = loss_function(output, y)\n",
    "\n",
    "            optimizer.zero_grad()  # Zero out the gradients\n",
    "            loss.backward()  # Compute the gradients\n",
    "            optimizer.step()  # Update the model parameters\n",
    "\n",
    "    torch.save(model, 'odia_dictionary_model.pkl')"
   ]
  }
 ],
 "metadata": {
  "kernelspec": {
   "display_name": "Python 3",
   "language": "python",
   "name": "python3"
  },
  "language_info": {
   "codemirror_mode": {
    "name": "ipython",
    "version": 3
   },
   "file_extension": ".py",
   "mimetype": "text/x-python",
   "name": "python",
   "nbconvert_exporter": "python",
   "pygments_lexer": "ipython3",
   "version": "3.11.4"
  },
  "orig_nbformat": 4
 },
 "nbformat": 4,
 "nbformat_minor": 2
}
